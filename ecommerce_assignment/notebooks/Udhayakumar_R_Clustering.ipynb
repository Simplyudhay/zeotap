{
 "cells": [
  {
   "cell_type": "code",
   "execution_count": null,
   "metadata": {
    "vscode": {
     "languageId": "plaintext"
    }
   },
   "outputs": [],
   "source": [
    "print(data.columns)\n",
    "\n",
    "data_cluster = data[['TotalValue']]\n",
    "data_cluster = data_cluster.dropna()\n",
    "\n",
    "scaler = StandardScaler()\n",
    "data_scaled = scaler.fit_transform(data_cluster)\n",
    "\n",
    "inertia = []\n",
    "for k in range(2, 11):\n",
    "    kmeans = KMeans(n_clusters=k, random_state=42)\n",
    "    kmeans.fit(data_scaled)\n",
    "    inertia.append(kmeans.inertia_)\n",
    "\n",
    "plt.figure(figsize=(8, 6))\n",
    "plt.plot(range(2, 11), inertia, marker='o', color='b', linestyle='--')\n",
    "plt.title('Elbow Method for Optimal Clusters')\n",
    "plt.xlabel('Number of Clusters')\n",
    "plt.ylabel('Inertia')\n",
    "plt.show()\n",
    "\n",
    "optimal_k = 4\n",
    "kmeans = KMeans(n_clusters=optimal_k, random_state=42)\n",
    "data_cluster['Cluster'] = kmeans.fit_predict(data_scaled)\n",
    "\n",
    "db_index = davies_bouldin_score(data_scaled, data_cluster['Cluster'])\n",
    "print(f'Davies-Bouldin Index: {db_index}')\n",
    "\n",
    "pca = PCA(n_components=2)\n",
    "data_pca = pca.fit_transform(data_scaled)\n",
    "data_cluster['PCA1'] = data_pca[:, 0]\n",
    "data_cluster['PCA2'] = data_pca[:, 1]\n",
    "\n",
    "plt.figure(figsize=(8, 6))\n",
    "sns.scatterplot(x='PCA1', y='PCA2', hue='Cluster', palette='viridis', data=data_cluster, s=100, alpha=0.7)\n",
    "plt.title(f'Customer Segments (K={optimal_k})')\n",
    "plt.xlabel('PCA1')\n",
    "plt.ylabel('PCA2')\n",
    "plt.legend(title='Cluster')\n",
    "plt.show()\n",
    "\n",
    "cluster_centers = kmeans.cluster_centers_\n",
    "print(f'Cluster Centers:\\n{cluster_centers}')\n",
    "\n",
    "for cluster_num in range(optimal_k):\n",
    "    print(f\"\\nCluster {cluster_num} Summary:\")\n",
    "    print(data_cluster[data_cluster['Cluster'] == cluster_num].describe())\n",
    "\n",
    "data_cluster.to_csv('Customer_Segments.csv', index=False)\n"
   ]
  }
 ],
 "metadata": {
  "language_info": {
   "name": "python"
  }
 },
 "nbformat": 4,
 "nbformat_minor": 2
}
