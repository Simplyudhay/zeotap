{
 "cells": [
  {
   "cell_type": "code",
   "execution_count": null,
   "metadata": {},
   "outputs": [],
   "source": [
    "import pandas as pd\n",
    "import numpy as np\n",
    "from sklearn.metrics.pairwise import cosine_similarity\n",
    "from sklearn.preprocessing import MultiLabelBinarizer\n",
    "\n",
    "\n",
    "customers = pd.read_csv('Customers.csv')\n",
    "products = pd.read_csv('Products.csv')\n",
    "transactions = pd.read_csv('Transactions.csv')\n",
    "\n",
    "data = transactions.merge(customers, on='CustomerID').merge(products, on='ProductID')\n",
    "\n",
    "mlb = MultiLabelBinarizer()\n",
    "data['CategoryList'] = data['Category'].apply(lambda x: [x])  # Wrap each category in a list\n",
    "category_matrix = mlb.fit_transform(data['CategoryList'])\n",
    "category_df = pd.DataFrame(category_matrix, columns=mlb.classes_)\n",
    "\n",
    "\n",
    "data_with_category = data[['CustomerID']].join(category_df)\n",
    "data_grouped = data_with_category.groupby('CustomerID').sum()\n",
    "\n",
    "cos_sim = cosine_similarity(data_grouped)\n",
    "\n",
    "\n",
    "lookalikes = {}\n",
    "for i in range(20): \n",
    "    customer_id = f'C{i+1:04d}'  \n",
    "    customer_idx = data_grouped.index.get_loc(customer_id)\n",
    "    sim_scores = cos_sim[customer_idx]\n",
    "    \n",
    "    similar_customers = [(data_grouped.index[j], sim_scores[j]) for j in range(len(sim_scores)) if data_grouped.index[j] != customer_id]\n",
    "    similar_customers = sorted(similar_customers, key=lambda x: x[1], reverse=True)[:3]  # Top 3 most similar\n",
    "    \n",
    "    \n",
    "    lookalikes[customer_id] = similar_customers\n",
    "\n",
    "lookalike_list = []\n",
    "for customer_id, similar_customers in lookalikes.items():\n",
    "    for sim_customer, score in similar_customers:\n",
    "        lookalike_list.append([customer_id, sim_customer, score])\n",
    "\n",
    "lookalike_df = pd.DataFrame(lookalike_list, columns=['CustomerID', 'LookalikeID', 'SimilarityScore'])\n",
    "\n",
    "\n",
    "lookalike_df.to_csv('Lookalike.csv', index=False)\n",
    "\n",
    "print(\"Lookalike model generated and saved to 'Lookalike.csv'.\")\n"
   ]
  }
 ],
 "metadata": {
  "kernelspec": {
   "display_name": "Python 3",
   "language": "python",
   "name": "python3"
  },
  "language_info": {
   "name": "python",
   "version": "3.10.11"
  }
 },
 "nbformat": 4,
 "nbformat_minor": 2
}
