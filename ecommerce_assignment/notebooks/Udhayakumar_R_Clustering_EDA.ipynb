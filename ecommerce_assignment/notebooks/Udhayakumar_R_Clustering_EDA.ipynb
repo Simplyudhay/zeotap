{
 "cells": [
  {
   "cell_type": "code",
   "execution_count": 1,
   "metadata": {},
   "outputs": [
    {
     "ename": "ModuleNotFoundError",
     "evalue": "No module named 'pandas'",
     "output_type": "error",
     "traceback": [
      "\u001b[1;31m---------------------------------------------------------------------------\u001b[0m",
      "\u001b[1;31mModuleNotFoundError\u001b[0m                       Traceback (most recent call last)",
      "Cell \u001b[1;32mIn[1], line 2\u001b[0m\n\u001b[0;32m      1\u001b[0m \u001b[38;5;66;03m# Import Libraries\u001b[39;00m\n\u001b[1;32m----> 2\u001b[0m \u001b[38;5;28;01mimport\u001b[39;00m \u001b[38;5;21;01mpandas\u001b[39;00m \u001b[38;5;28;01mas\u001b[39;00m \u001b[38;5;21;01mpd\u001b[39;00m\n\u001b[0;32m      3\u001b[0m \u001b[38;5;28;01mimport\u001b[39;00m \u001b[38;5;21;01mmatplotlib\u001b[39;00m\u001b[38;5;21;01m.\u001b[39;00m\u001b[38;5;21;01mpyplot\u001b[39;00m \u001b[38;5;28;01mas\u001b[39;00m \u001b[38;5;21;01mplt\u001b[39;00m\n\u001b[0;32m      4\u001b[0m \u001b[38;5;28;01mimport\u001b[39;00m \u001b[38;5;21;01mseaborn\u001b[39;00m \u001b[38;5;28;01mas\u001b[39;00m \u001b[38;5;21;01msns\u001b[39;00m\n",
      "\u001b[1;31mModuleNotFoundError\u001b[0m: No module named 'pandas'"
     ]
    }
   ],
   "source": [
    "import pandas as pd\n",
    "import matplotlib.pyplot as plt\n",
    "import seaborn as sns\n",
    "\n",
    "from google.colab import files\n",
    "\n",
    "customers = pd.read_csv('Customers.csv')  \n",
    "products = pd.read_csv('Products.csv')   \n",
    "transactions = pd.read_csv('Transactions.csv') \n",
    "\n",
    "data = transactions.merge(customers, on='CustomerID').merge(products, on='ProductID')\n",
    "\n",
    "print(\"Customers Overview:\")\n",
    "print(customers.info())\n",
    "print(\"\\nProducts Overview:\")\n",
    "print(products.info())\n",
    "print(\"\\nTransactions Overview:\")\n",
    "print(transactions.info())\n",
    "data = data.dropna()\n",
    "\n",
    "region_revenue = data.groupby('Region')['TotalValue'].sum().sort_values(ascending=False)\n",
    "print(\"Revenue by Region:\")\n",
    "print(region_revenue)\n",
    "\n",
    "plt.figure(figsize=(10, 6))\n",
    "region_revenue.plot(kind='bar', color='skyblue', title=\"Revenue by Region\")\n",
    "plt.xlabel('Region')\n",
    "plt.ylabel('Total Revenue (USD)')\n",
    "plt.show()\n",
    "\n",
    "category_sales = data['Category'].value_counts()\n",
    "print(\"Most Purchased Product Categories:\")\n",
    "print(category_sales)\n",
    "\n",
    "plt.figure(figsize=(10, 6))\n",
    "sns.barplot(x=category_sales.index, y=category_sales.values, palette='viridis')\n",
    "plt.title('Most Purchased Product Categories')\n",
    "plt.xlabel('Category')\n",
    "plt.ylabel('Number of Purchases')\n",
    "plt.show()\n",
    "\n",
    "data['TransactionDate'] = pd.to_datetime(data['TransactionDate'])\n",
    "data['Month'] = data['TransactionDate'].dt.to_period('M')\n",
    "monthly_revenue = data.groupby('Month')['TotalValue'].sum()\n",
    "print(\"Monthly Revenue Trend:\")\n",
    "print(monthly_revenue)\n",
    "\n",
    "plt.figure(figsize=(12, 6))\n",
    "monthly_revenue.plot(title=\"Monthly Revenue Trend\", color='green')\n",
    "plt.xlabel('Month')\n",
    "plt.ylabel('Revenue (USD)')\n",
    "plt.show()\n",
    "\n",
    "top_customers = data.groupby('CustomerID')['TotalValue'].sum().sort_values(ascending=False).head(10)\n",
    "print(\"Top Customers by Revenue:\")\n",
    "print(top_customers)\n",
    "\n",
    "plt.figure(figsize=(10, 6))\n",
    "top_customers.plot(kind='bar', title=\"Top 10 Customers by Revenue\", color='orange')\n",
    "plt.xlabel('Customer ID')\n",
    "plt.ylabel('Total Revenue (USD)')\n",
    "plt.show()\n",
    "\n",
    "\n",
    "avg_price_category = data.groupby('Category')['Price'].mean()\n",
    "print(\"Average Price by Product Category:\")\n",
    "print(avg_price_category)\n",
    "\n",
    "plt.figure(figsize=(10, 6))\n",
    "avg_price_category.plot(kind='bar', title=\"Average Price by Product Category\", color='purple')\n",
    "plt.xlabel('Category')\n",
    "plt.ylabel('Average Price (USD)')\n",
    "plt.show()\n"
   ]
  }
 ],
 "metadata": {
  "kernelspec": {
   "display_name": "Python 3",
   "language": "python",
   "name": "python3"
  },
  "language_info": {
   "codemirror_mode": {
    "name": "ipython",
    "version": 3
   },
   "file_extension": ".py",
   "mimetype": "text/x-python",
   "name": "python",
   "nbconvert_exporter": "python",
   "pygments_lexer": "ipython3",
   "version": "3.10.11"
  }
 },
 "nbformat": 4,
 "nbformat_minor": 2
}
